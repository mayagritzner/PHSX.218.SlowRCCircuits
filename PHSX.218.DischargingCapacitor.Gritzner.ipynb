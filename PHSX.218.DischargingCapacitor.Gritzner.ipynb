{
 "cells": [
  {
   "cell_type": "code",
   "execution_count": null,
   "id": "d227b813",
   "metadata": {},
   "outputs": [],
   "source": [
    "#Physics 218\n",
    "#Maya Gritzner\n",
    "\n",
    "import numpy as np\n",
    "import matplotlib.pyplot as plt\n",
    "\n",
    "V = np.array([11.49,7.23,4.614,2.925,1.862,1.206,0.766,0.503,0.329,0.22,0.148,0.099,0.069]) \n",
    "t = np.array([0,10,20,30,40,50,60,70,80,90,100,110,120])\n",
    "\n",
    "plt.xlabel('Voltage (V)')\n",
    "plt.ylabel('Time (s)')\n",
    "plt.title('Discharging Behavior of Capacitor')\n",
    " \n",
    "\n",
    "\n",
    "plt.plot(t,V)"
   ]
  }
 ],
 "metadata": {
  "kernelspec": {
   "display_name": "Python 3 (ipykernel)",
   "language": "python",
   "name": "python3"
  },
  "language_info": {
   "codemirror_mode": {
    "name": "ipython",
    "version": 3
   },
   "file_extension": ".py",
   "mimetype": "text/x-python",
   "name": "python",
   "nbconvert_exporter": "python",
   "pygments_lexer": "ipython3",
   "version": "3.9.12"
  }
 },
 "nbformat": 4,
 "nbformat_minor": 5
}
